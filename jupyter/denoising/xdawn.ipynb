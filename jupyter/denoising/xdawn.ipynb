{
 "metadata": {
  "language_info": {
   "codemirror_mode": {
    "name": "ipython",
    "version": 3
   },
   "file_extension": ".py",
   "mimetype": "text/x-python",
   "name": "python",
   "nbconvert_exporter": "python",
   "pygments_lexer": "ipython3",
   "version": "3.6.12-final"
  },
  "orig_nbformat": 2,
  "kernelspec": {
   "name": "python3",
   "display_name": "Python 3.6.12 64-bit ('eegnet': conda)",
   "metadata": {
    "interpreter": {
     "hash": "da6344ef4a5360b2ccef5dc2807ca89737f7a48dd5b83caa68ae0d5068bcc227"
    }
   }
  }
 },
 "nbformat": 4,
 "nbformat_minor": 2,
 "cells": [
  {
   "cell_type": "code",
   "execution_count": null,
   "metadata": {},
   "outputs": [],
   "source": [
    "%matplotlib widget"
   ]
  },
  {
   "source": [
    "# EEGNet\n",
    "## Transfer Learning Book"
   ],
   "cell_type": "markdown",
   "metadata": {}
  },
  {
   "cell_type": "code",
   "execution_count": null,
   "metadata": {},
   "outputs": [],
   "source": [
    "\n",
    "import sys, os\n",
    "sys.path.insert(0, os.path.join(sys.path[0], '../modules'))\n",
    "os.chdir('c:/Users/roryp/vscodeprojects/bci2')\n",
    "\n",
    "## imports\n",
    "from preparation import load_comp, epoch_comp, loadall_pilot, epoch_pilot, comp_channel_map3\n",
    "from evaluation import EEGNet, get_fold, add_kernel_dim, onehot, test_val_rest_split, test_model\n",
    "from pathlib import Path\n",
    "from tensorflow.python.keras.callbacks import ModelCheckpoint\n",
    "from sklearn.model_selection import train_test_split, StratifiedKFold"
   ]
  },
  {
   "source": [
    "### Define Notebook Constants"
   ],
   "cell_type": "markdown",
   "metadata": {}
  },
  {
   "cell_type": "code",
   "execution_count": null,
   "metadata": {},
   "outputs": [],
   "source": [
    "CLASSES = 3\n",
    "FOLDS = 9\n",
    "TRANSFER_FOLDS = 5\n",
    "GOODS = ['Fz','FC3','FC1','FC2','FC4','C5','C3','C1','Cz','C2','C4','C6','CP3','CP1','CPz','CP2','CP4','P1','Pz','P2','POz']\n",
    "# GOODS = ['FC3','C3','CP3','FC4','C4','CP4']\n",
    "# GOODS = ['FC3','C3','CP3','Fz','Cz','POz','FC4','C4','CP4']\n",
    "T_RANGE = [0.3, 2]\n",
    "RESAMPLE = 128\n",
    "KERNELS = 1\n",
    "EPOCHS = 200\n",
    "TRANSFER_EPOCHS = 300\n",
    "LO_FREQ = 1.\n",
    "HI_FREQ = 32.\n",
    "ICA = True\n",
    "WEIGHT_PATH = f\"weights/competition/subject-separated/{CLASSES}class/{FOLDS}fold/channel_map3\""
   ]
  },
  {
   "source": [
    "### Load Base Data"
   ],
   "cell_type": "markdown",
   "metadata": {}
  },
  {
   "cell_type": "code",
   "execution_count": null,
   "metadata": {},
   "outputs": [],
   "source": [
    "from preparation import load_comp_array, prep_comp\n",
    "\n",
    "subject_raws = prep_comp(load_comp_array(True), comp_channel_map3, GOODS, l_freq=LO_FREQ, h_freq=HI_FREQ)"
   ]
  },
  {
   "source": [
    "### Create a copy of the first subject data"
   ],
   "cell_type": "markdown",
   "metadata": {}
  },
  {
   "cell_type": "code",
   "execution_count": null,
   "metadata": {},
   "outputs": [],
   "source": [
    "filt_raw = subject_raws[0].copy()\n",
    "filt_raw.load_data().filter(l_freq=1., h_freq=None)"
   ]
  },
  {
   "source": [
    "### Fit ICA to Raw instance"
   ],
   "cell_type": "markdown",
   "metadata": {}
  },
  {
   "cell_type": "code",
   "execution_count": null,
   "metadata": {},
   "outputs": [],
   "source": [
    "from mne.preprocessing import ICA\n",
    "\n",
    "ica = ICA(n_components=21, random_state=97)\n",
    "ica.fit(filt_raw)"
   ]
  },
  {
   "source": [
    "Plot ICs"
   ],
   "cell_type": "markdown",
   "metadata": {}
  },
  {
   "cell_type": "code",
   "execution_count": null,
   "metadata": {},
   "outputs": [],
   "source": [
    "ica.plot_sources(subject_raws[0])"
   ]
  },
  {
   "cell_type": "code",
   "execution_count": 25,
   "metadata": {},
   "outputs": [
    {
     "output_type": "display_data",
     "data": {
      "text/plain": "Canvas(toolbar=Toolbar(toolitems=[('Home', 'Reset original view', 'home', 'home'), ('Back', 'Back to  previous…",
      "application/vnd.jupyter.widget-view+json": {
       "version_major": 2,
       "version_minor": 0,
       "model_id": "c41419f149544893a18d97c38a015acc"
      }
     },
     "metadata": {}
    },
    {
     "output_type": "stream",
     "name": "stdout",
     "text": [
      "    Using multitaper spectrum estimation with 7 DPSS windows\n",
      "Not setting metadata\n",
      "Not setting metadata\n",
      "1345 matching events found\n",
      "No baseline correction applied\n",
      "0 projection items activated\n",
      "0 bad epochs dropped\n"
     ]
    },
    {
     "output_type": "display_data",
     "data": {
      "text/plain": "Canvas(toolbar=Toolbar(toolitems=[('Home', 'Reset original view', 'home', 'home'), ('Back', 'Back to  previous…",
      "application/vnd.jupyter.widget-view+json": {
       "version_major": 2,
       "version_minor": 0,
       "model_id": "0c2730f1c4c14da79e857a7b0d8f3070"
      }
     },
     "metadata": {}
    },
    {
     "output_type": "stream",
     "name": "stdout",
     "text": [
      "Not setting metadata\n",
      "Not setting metadata\n",
      "1345 matching events found\n",
      "No baseline correction applied\n",
      "0 projection items activated\n",
      "0 bad epochs dropped\n"
     ]
    },
    {
     "output_type": "display_data",
     "data": {
      "text/plain": "Canvas(toolbar=Toolbar(toolitems=[('Home', 'Reset original view', 'home', 'home'), ('Back', 'Back to  previous…",
      "application/vnd.jupyter.widget-view+json": {
       "version_major": 2,
       "version_minor": 0,
       "model_id": "f61a1b53481844c599abd8fdb226922b"
      }
     },
     "metadata": {}
    },
    {
     "output_type": "stream",
     "name": "stdout",
     "text": [
      "Not setting metadata\n",
      "Not setting metadata\n",
      "1345 matching events found\n",
      "No baseline correction applied\n",
      "0 projection items activated\n",
      "0 bad epochs dropped\n"
     ]
    },
    {
     "output_type": "execute_result",
     "data": {
      "text/plain": [
       "[<Figure size 400x400 with 6 Axes>,\n",
       " <Figure size 400x400 with 6 Axes>,\n",
       " <Figure size 400x400 with 6 Axes>]"
      ]
     },
     "metadata": {},
     "execution_count": 25
    }
   ],
   "source": [
    "ica.plot_properties(subject_raws[0], picks=[0,1,2])"
   ]
  }
 ]
}